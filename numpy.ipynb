{
 "cells": [
  {
   "cell_type": "markdown",
   "metadata": {
    "id": "vC84e9kzyxPy"
   },
   "source": [
    "<h1>Импорт библиотек"
   ]
  },
  {
   "cell_type": "code",
   "execution_count": 3,
   "metadata": {
    "id": "cgKeNegmQG5S"
   },
   "outputs": [],
   "source": [
    "import numpy as np\n",
    "import matplotlib.pyplot as plt"
   ]
  },
  {
   "cell_type": "markdown",
   "metadata": {
    "id": "qFM9uVU2x4Ls"
   },
   "source": [
    "<h1>Задача 1. Дан набор из $p$ матриц размерностью $(n, n)$ и $p$ векторов размерностью $(n, 1)$, найти сумму произведений матриц на векторы. Написать тесты для кода"
   ]
  },
  {
   "cell_type": "code",
   "execution_count": 23,
   "metadata": {
    "id": "IAbUvEiYyWFF"
   },
   "outputs": [],
   "source": [
    "import numpy as np\n",
    "\n",
    "def sum_prod(X, V):\n",
    "    '''\n",
    "    X - матрицы (n, n)\n",
    "    V - векторы (n, 1)\n",
    "    Гарантируется, что len(X) == len(V)\n",
    "    '''\n",
    "    result = np.zeros_like(V[0])\n",
    "    for A, b in zip(X, V):\n",
    "        result += np.dot(A, b)\n",
    "    \n",
    "    return result\n",
    "\n",
    "X = [np.array([[1, 2], [3, 4]]), np.array([[5, 6], [7, 8]])]\n",
    "V = [np.array([[1], [2]]), np.array([[3], [4]])]\n",
    "assert np.all(sum_prod(X, V) == np.array([[44], [64]]))\n",
    "\n"
   ]
  },
  {
   "cell_type": "markdown",
   "metadata": {
    "id": "TKwPG4fIy2w4"
   },
   "source": [
    "<h1>Задача 2. Дана матрица M, напишите функцию, которая бинаризует матрицу по некоторому threshold (то есть, все значения большие threshold становятся равными 1, иначе 0). Напишите тесты для кода"
   ]
  },
  {
   "cell_type": "code",
   "execution_count": 20,
   "metadata": {
    "id": "KQDNMgsjRNH7"
   },
   "outputs": [
    {
     "name": "stdout",
     "output_type": "stream",
     "text": [
      "All tests passed!\n"
     ]
    }
   ],
   "source": [
    "import numpy as np\n",
    "\n",
    "def binarize(M, threshold=0.5):\n",
    "    return (M >= threshold).astype(int)\n",
    "\n",
    "def test_binarize():\n",
    "    # Тест 1: Матрица 2x2 с порогом 0.5 (по умолчанию)\n",
    "    M1 = np.array([[0.2, 0.6], [0.4, 0.8]])\n",
    "    expected1 = np.array([[0, 1], [0, 1]])\n",
    "    assert np.array_equal(binarize(M1), expected1), f\"Test 1 failed: {binarize(M1)} != {expected1}\"\n",
    "    \n",
    "    # Тест 2: Матрица 3x3 с порогом 0.7\n",
    "    M2 = np.array([[0.1, 0.7, 0.9], [0.5, 0.8, 0.3], [0.6, 0.2, 0.7]])\n",
    "    expected2 = np.array([[0, 1, 1], [0, 1, 0], [0, 0, 1]])\n",
    "    assert np.array_equal(binarize(M2, 0.7), expected2), f\"Test 2 failed: {binarize(M2, 0.7)} != {expected2}\"\n",
    "    \n",
    "    # Тест 3: Матрица с отрицательными значениями и порогом 0\n",
    "    M3 = np.array([[-0.5, 0.0, 0.5], [0.3, -0.2, 0.7]])\n",
    "    expected3 = np.array([[0, 1, 1], [1, 0, 1]])\n",
    "    assert np.array_equal(binarize(M3, 0), expected3), f\"Test 3 failed: {binarize(M3, 0)} != {expected3}\"\n",
    "    \n",
    "    # Тест 4: Матрица с элементами, равными порогу\n",
    "    M4 = np.array([[0.5, 0.5], [0.4, 0.6]])\n",
    "    expected4 = np.array([[1, 1], [0, 1]])\n",
    "    assert np.array_equal(binarize(M4, 0.5), expected4), f\"Test 4 failed: {binarize(M4, 0.5)} != {expected4}\"\n",
    "    \n",
    "    print(\"All tests passed!\")\n",
    "\n",
    "test_binarize()\n"
   ]
  },
  {
   "cell_type": "markdown",
   "metadata": {
    "id": "IY5L-h-7zWhN"
   },
   "source": [
    "<h1>Задача 3. Напишите функцию, которая возвращает уникальные элементы из каждой строки матрицы. Напишите такую же функцию, но для столбцов. Напишите тесты для кода"
   ]
  },
  {
   "cell_type": "code",
   "execution_count": 25,
   "metadata": {
    "id": "-8dEZhR0SBC-"
   },
   "outputs": [
    {
     "name": "stdout",
     "output_type": "stream",
     "text": [
      "All tests passed!\n"
     ]
    }
   ],
   "source": [
    "import numpy as np\n",
    "\n",
    "def unique_rows(mat):\n",
    "    return [np.unique(row) for row in mat]\n",
    "\n",
    "def unique_columns(mat):\n",
    "    return [np.unique(col) for col in mat.T]\n",
    "\n",
    "def test_unique_rows_and_columns():\n",
    "    # Тест 1: Простая матрица 3x3\n",
    "    mat1 = np.array([[1, 2, 2], [3, 3, 3], [4, 5, 5]])\n",
    "    expected_rows1 = [np.array([1, 2]), np.array([3]), np.array([4, 5])]\n",
    "    expected_cols1 = [np.array([1, 3, 4]), np.array([2, 3, 5]), np.array([2, 3, 5])]\n",
    "    \n",
    "    assert all(np.array_equal(ur, er) for ur, er in zip(unique_rows(mat1), expected_rows1)), f\"Test 1 failed for rows\"\n",
    "    assert all(np.array_equal(uc, ec) for uc, ec in zip(unique_columns(mat1), expected_cols1)), f\"Test 1 failed for columns\"\n",
    "\n",
    "    # Тест 2: Матрица с одинаковыми строками\n",
    "    mat2 = np.array([[1, 1, 1], [1, 1, 1], [1, 1, 1]])\n",
    "    expected_rows2 = [np.array([1]), np.array([1]), np.array([1])]\n",
    "    expected_cols2 = [np.array([1]), np.array([1]), np.array([1])]\n",
    "    \n",
    "    assert all(np.array_equal(ur, er) for ur, er in zip(unique_rows(mat2), expected_rows2)), f\"Test 2 failed for rows\"\n",
    "    assert all(np.array_equal(uc, ec) for uc, ec in zip(unique_columns(mat2), expected_cols2)), f\"Test 2 failed for columns\"\n",
    "\n",
    "    # Тест 3: Матрица с отрицательными значениями\n",
    "    mat3 = np.array([[-1, -2, -2], [-1, -1, -3], [-1, -2, -3]])\n",
    "    expected_rows3 = [np.array([-2, -1]), np.array([-3, -1]), np.array([-3, -2, -1])]\n",
    "    expected_cols3 = [np.array([-1]), np.array([-2, -1]), np.array([-3, -2])]\n",
    "    \n",
    "    assert all(np.array_equal(ur, er) for ur, er in zip(unique_rows(mat3), expected_rows3)), f\"Test 3 failed for rows\"\n",
    "    assert all(np.array_equal(uc, ec) for uc, ec in zip(unique_columns(mat3), expected_cols3)), f\"Test 3 failed for columns\"\n",
    "\n",
    "    # Тест 4: Матрица с числами с плавающей точкой\n",
    "    mat4 = np.array([[0.1, 0.2, 0.2], [0.1, 0.3, 0.3], [0.4, 0.5, 0.5]])\n",
    "    expected_rows4 = [np.array([0.1, 0.2]), np.array([0.1, 0.3]), np.array([0.4, 0.5])]\n",
    "    expected_cols4 = [np.array([0.1, 0.4]), np.array([0.2, 0.3, 0.5]), np.array([0.2, 0.3, 0.5])]\n",
    "    \n",
    "    assert all(np.array_equal(ur, er) for ur, er in zip(unique_rows(mat4), expected_rows4)), f\"Test 4 failed for rows\"\n",
    "    assert all(np.array_equal(uc, ec) for uc, ec in zip(unique_columns(mat4), expected_cols4)), f\"Test 4 failed for columns\"\n",
    "    \n",
    "    print(\"All tests passed!\")\n",
    "\n",
    "test_unique_rows_and_columns()\n"
   ]
  },
  {
   "cell_type": "markdown",
   "metadata": {
    "id": "roYAlo4Jz-lH"
   },
   "source": [
    "<h1>Задача 4. Напишите функцию, которая заполняет матрицу с размерами $(m, n)$ случайными числами, распределенными по нормальному закону. Затем считает мат. ожидание и дисперсию для каждого из столбцов и строк, а также строит для каждой строки и столбца гистограмму значений (использовать функцию hist из модуля matplotlib.plot)"
   ]
  },
  {
   "cell_type": "code",
   "execution_count": null,
   "metadata": {
    "id": "nZK_71hMSQzv"
   },
   "outputs": [],
   "source": [
    "import numpy as np\n",
    "import matplotlib.pyplot as plt\n",
    "\n",
    "def analyze_matrix(n, m):\n",
    "    matrix = np.random.normal(loc=0, scale=1, size=(n, m))\n",
    "    \n",
    "    # Вычисление мат. ожидания и дисперсии для каждой строки\n",
    "    mean_rows = np.mean(matrix, axis=1)  \n",
    "    var_rows = np.var(matrix, axis=1)    \n",
    "    \n",
    "    # Вычисление мат. ожидания и дисперсии для каждого столбца\n",
    "    mean_columns = np.mean(matrix, axis=0)  \n",
    "    var_columns = np.var(matrix, axis=0)    \n",
    "    \n",
    "    print(\"Мат. ожидание по строкам:\", mean_rows)\n",
    "    print(\"Дисперсия по строкам:\", var_rows)\n",
    "    print(\"Мат. ожидание по столбцам:\", mean_columns)\n",
    "    print(\"Дисперсия по столбцам:\", var_columns)\n",
    "\n",
    "    # Построение гистограмм для каждой строки\n",
    "    for i in range(n):\n",
    "        plt.figure(figsize=(6, 4))\n",
    "        plt.hist(matrix[i, :], bins=10, alpha=0.7, color='blue')\n",
    "        plt.title(f'Гистограмма для строки {i+1}')\n",
    "        plt.xlabel('Значения')\n",
    "        plt.ylabel('Частота')\n",
    "        plt.grid(True)\n",
    "        plt.show()\n",
    "        \n",
    "    # Построение гистограмм для каждого столбца\n",
    "    for j in range(m):\n",
    "        plt.figure(figsize=(6, 4))\n",
    "        plt.hist(matrix[:, j], bins=10, alpha=0.7, color='green')\n",
    "        plt.title(f'Гистограмма для столбца {j+1}')\n",
    "        plt.xlabel('Значения')\n",
    "        plt.ylabel('Частота')\n",
    "        plt.grid(True)\n",
    "        plt.show()\n",
    "\n",
    "analyze_matrix(3, 4) \n"
   ]
  },
  {
   "cell_type": "markdown",
   "metadata": {
    "id": "BDyATNdM0dJ2"
   },
   "source": [
    "<h1>Задача 5. Напишите функцию, которая заполняет матрицу $(m, n)$ в шахматном порядке заданными числами $a$ и $b$. Напишите тесты для кода"
   ]
  },
  {
   "cell_type": "code",
   "execution_count": 27,
   "metadata": {
    "id": "RWNJYWQGecS6"
   },
   "outputs": [
    {
     "name": "stdout",
     "output_type": "stream",
     "text": [
      "All tests passed!\n"
     ]
    }
   ],
   "source": [
    "import numpy as np\n",
    "\n",
    "def chess(m, n, a, b):\n",
    "    matrix = np.zeros((m, n), dtype=type(a)) \n",
    "    # Заполняем матрицу по шахматному правилу\n",
    "    for i in range(m):\n",
    "        for j in range(n):\n",
    "            if (i + j) % 2 == 0:\n",
    "                matrix[i, j] = a\n",
    "            else:\n",
    "                matrix[i, j] = b  \n",
    "    return matrix\n",
    "\n",
    "def test_chess():\n",
    "    # Тест 1: Матрица 3x3 с числами 1 и 0\n",
    "    result1 = chess(3, 3, 1, 0)\n",
    "    expected1 = np.array([[1, 0, 1],\n",
    "                          [0, 1, 0],\n",
    "                          [1, 0, 1]])\n",
    "    assert np.array_equal(result1, expected1), f\"Test 1 failed: {result1} != {expected1}\"\n",
    "    \n",
    "    # Тест 2: Матрица 2x4 с числами 5 и -5\n",
    "    result2 = chess(2, 4, 5, -5)\n",
    "    expected2 = np.array([[5, -5, 5, -5],\n",
    "                          [-5, 5, -5, 5]])\n",
    "    assert np.array_equal(result2, expected2), f\"Test 2 failed: {result2} != {expected2}\"\n",
    "    \n",
    "    # Тест 3: Матрица 4x4 с числами 2 и 3\n",
    "    result3 = chess(4, 4, 2, 3)\n",
    "    expected3 = np.array([[2, 3, 2, 3],\n",
    "                          [3, 2, 3, 2],\n",
    "                          [2, 3, 2, 3],\n",
    "                          [3, 2, 3, 2]])\n",
    "    assert np.array_equal(result3, expected3), f\"Test 3 failed: {result3} != {expected3}\"\n",
    "    \n",
    "    # Тест 4: Матрица 1x5 с числами 10 и 20\n",
    "    result4 = chess(1, 5, 10, 20)\n",
    "    expected4 = np.array([[10, 20, 10, 20, 10]])\n",
    "    assert np.array_equal(result4, expected4), f\"Test 4 failed: {result4} != {expected4}\"\n",
    "    \n",
    "    print(\"All tests passed!\")\n",
    "\n",
    "test_chess()"
   ]
  },
  {
   "cell_type": "markdown",
   "metadata": {
    "id": "-ymXLtTN0vB6"
   },
   "source": [
    "<h1>Задача 6. Напишите функцию, которая отрисовывает прямоугольник с заданными размерами (a, b) на изображении размера (m, n), цвет фона задайте в схеме RGB, как и цвет прямоугольника. Цвета также должны быть параметрами функции. Напишите аналогичную функцию но для овала с полуосями a и b. Напишите тесты для кода.\n",
    "Примечание: уравнение эллипса (границы овала) можно записать как:\n",
    "<h1>$\\frac{(x-x_0)^2}{a^2}+\\frac{(y-y_0)^2}{b^2}=1$"
   ]
  },
  {
   "cell_type": "code",
   "execution_count": 28,
   "metadata": {
    "id": "sNfl1t_kfOF4"
   },
   "outputs": [],
   "source": [
    "from PIL import Image, ImageDraw\n",
    "\n",
    "def draw_rectangle(a, b, m, n, rectangle_color, background_color):\n",
    "    img = Image.new('RGB', (m, n), background_color)\n",
    "    draw = ImageDraw.Draw(img)\n",
    "    # Определяем координаты для прямоугольника (центрируем его)\n",
    "    top_left = ((m - a) // 2, (n - b) // 2)\n",
    "    bottom_right = ((m + a) // 2, (n + b) // 2)\n",
    "    # Рисуем прямоугольник\n",
    "    draw.rectangle([top_left, bottom_right], fill=rectangle_color)\n",
    "    return img\n",
    "\n",
    "def draw_ellipse(a, b, m, n, ellipse_color, background_color):\n",
    "    img = Image.new('RGB', (m, n), background_color)\n",
    "    draw = ImageDraw.Draw(img)\n",
    "    # Определяем координаты ограничивающего прямоугольника для эллипса\n",
    "    top_left = ((m - 2*a) // 2, (n - 2*b) // 2)\n",
    "    bottom_right = ((m + 2*a) // 2, (n + 2*b) // 2)\n",
    "    # Рисуем эллипс\n",
    "    draw.ellipse([top_left, bottom_right], fill=ellipse_color)\n",
    "    return img\n",
    "\n",
    "def test_draw_shapes():\n",
    "    # Тест 1: Прямоугольник\n",
    "    img1 = draw_rectangle(100, 50, 300, 200, (255, 0, 0), (255, 255, 255))\n",
    "    img1.show() \n",
    "    \n",
    "    # Тест 2: Овал\n",
    "    img2 = draw_ellipse(60, 40, 300, 200, (0, 255, 0), (255, 255, 255))\n",
    "    img2.show()  \n",
    "\n",
    "    # Тест 3: Прямоугольник на большом фоне\n",
    "    img3 = draw_rectangle(200, 100, 500, 500, (0, 0, 255), (200, 200, 200))\n",
    "    img3.show()  \n",
    "\n",
    "    # Тест 4: Овал с полуосями 50 и 100\n",
    "    img4 = draw_ellipse(50, 100, 400, 400, (255, 255, 0), (0, 0, 0))\n",
    "    img4.show()  \n",
    "\n",
    "test_draw_shapes()"
   ]
  },
  {
   "cell_type": "markdown",
   "metadata": {
    "id": "S82c38oz244H"
   },
   "source": [
    "<h1>Задача 7. Дан некий временной ряд. Для данного ряда нужно найти его: математическое ожидание, дисперсию, СКО, найти все локальные максимумы и минимумы (локальный максимум - это точка, которая больше своих соседних точек, а локальный минимум - это точка, которая меньше своих соседей), а также вычислить для данного ряда другой ряд, получаемый методом скользящего среднего с размером окна $p$.\n",
    "<h1>Примечание: метод скользящего среднего подразумевает нахождение среднего из подмножетсва ряда размером $p$"
   ]
  },
  {
   "cell_type": "code",
   "execution_count": 31,
   "metadata": {
    "id": "Zb9mIVge5MMt"
   },
   "outputs": [
    {
     "name": "stdout",
     "output_type": "stream",
     "text": [
      "Математическое ожидание: 3.0\n",
      "Дисперсия: 5.2\n",
      "Среднеквадратическое отклонение: 2.280350850198276\n",
      "Индексы локальных максимумов: [2 5 8]\n",
      "Индексы локальных минимумов: [3 6]\n",
      "Скользящее среднее: [3.66666667 3.66666667 3.33333333 3.         2.66666667 2.33333333\n",
      " 2.         3.33333333]\n"
     ]
    }
   ],
   "source": [
    "import numpy as np\n",
    "\n",
    "def analyze_series(series, window_size):\n",
    "    # 1. Математическое ожидание (среднее значение)\n",
    "    mean = np.mean(series)\n",
    "    # 2. Дисперсия\n",
    "    var = np.var(series)\n",
    "    # 3. Среднеквадратическое отклонение (СКО)\n",
    "    std = np.std(series)\n",
    "    # 4. Поиск локальных максимумов\n",
    "    local_max = np.where((series[1:-1] > series[:-2]) & (series[1:-1] > series[2:]))[0] + 1\n",
    "    # 5. Поиск локальных минимумов\n",
    "    local_min = np.where((series[1:-1] < series[:-2]) & (series[1:-1] < series[2:]))[0] + 1\n",
    "    # 6. Скользящее среднее\n",
    "    moving_avg = np.convolve(series, np.ones(window_size) / window_size, mode='valid')\n",
    "\n",
    "    return mean, var, std, local_max, local_min, moving_avg\n",
    "\n",
    "# Тестирование функции\n",
    "series = np.array([1, 3, 7, 1, 2, 6, 0, 1, 5, 4])\n",
    "result = analyze_series(series, 3)\n",
    "\n",
    "print(\"Математическое ожидание:\", result[0])\n",
    "print(\"Дисперсия:\", result[1])\n",
    "print(\"Среднеквадратическое отклонение:\", result[2])\n",
    "print(\"Индексы локальных максимумов:\", result[3])\n",
    "print(\"Индексы локальных минимумов:\", result[4])\n",
    "print(\"Скользящее среднее:\", result[5])\n",
    "\n"
   ]
  },
  {
   "cell_type": "markdown",
   "metadata": {
    "id": "jPkylmOX5O9n"
   },
   "source": [
    "<h1> Задача 8. Дан некоторый вектор с целочисленными метками классов, напишите функцию, которая выполняет one-hot-encoding для данного вектора\n",
    "<h1> One-hot-encoding - представление, в котором на месте метки некоторого класса стоит 1, в остальных позициях стоит 0. Например для вектора [0, 2, 3, 0] one-hot-encoding выглядит как: [[1, 0, 0, 0], [0, 0, 1, 0], [0, 0, 0, 1], [1, 0, 0, 0]]"
   ]
  },
  {
   "cell_type": "code",
   "execution_count": 32,
   "metadata": {
    "id": "Y-jlnZvw56lD"
   },
   "outputs": [
    {
     "name": "stdout",
     "output_type": "stream",
     "text": [
      "All tests passed!\n"
     ]
    }
   ],
   "source": [
    "import numpy as np\n",
    "\n",
    "def one_hot_encode(labels):\n",
    "    labels = np.array(labels)\n",
    "    num_classes = np.max(labels) + 1\n",
    "    one_hot_matrix = np.zeros((len(labels), num_classes), dtype=int)\n",
    "    one_hot_matrix[np.arange(len(labels)), labels] = 1\n",
    "    \n",
    "    return one_hot_matrix\n",
    "\n",
    "def test_one_hot_encode():\n",
    "    # Тест 1: Простой случай\n",
    "    labels1 = [0, 2, 3, 0]\n",
    "    expected1 = np.array([\n",
    "        [1, 0, 0, 0],\n",
    "        [0, 0, 1, 0],\n",
    "        [0, 0, 0, 1],\n",
    "        [1, 0, 0, 0]\n",
    "    ])\n",
    "    assert np.array_equal(one_hot_encode(labels1), expected1), \"Test 1 failed\"\n",
    "    \n",
    "    # Тест 2: Метки от 0 до 2\n",
    "    labels2 = [1, 0, 2, 1]\n",
    "    expected2 = np.array([\n",
    "        [0, 1, 0],\n",
    "        [1, 0, 0],\n",
    "        [0, 0, 1],\n",
    "        [0, 1, 0]\n",
    "    ])\n",
    "    assert np.array_equal(one_hot_encode(labels2), expected2), \"Test 2 failed\"\n",
    "    \n",
    "    # Тест 3: Повторяющиеся метки\n",
    "    labels3 = [2, 2, 0, 1]\n",
    "    expected3 = np.array([\n",
    "        [0, 0, 1],\n",
    "        [0, 0, 1],\n",
    "        [1, 0, 0],\n",
    "        [0, 1, 0]\n",
    "    ])\n",
    "    assert np.array_equal(one_hot_encode(labels3), expected3), \"Test 3 failed\"\n",
    "    \n",
    "    print(\"All tests passed!\")\n",
    "\n",
    "test_one_hot_encode()\n"
   ]
  }
 ],
 "metadata": {
  "colab": {
   "provenance": []
  },
  "kernelspec": {
   "display_name": "Python 3",
   "language": "python",
   "name": "python3"
  },
  "language_info": {
   "codemirror_mode": {
    "name": "ipython",
    "version": 3
   },
   "file_extension": ".py",
   "mimetype": "text/x-python",
   "name": "python",
   "nbconvert_exporter": "python",
   "pygments_lexer": "ipython3",
   "version": "3.12.7"
  }
 },
 "nbformat": 4,
 "nbformat_minor": 4
}

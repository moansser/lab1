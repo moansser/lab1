{
 "cells": [
  {
   "cell_type": "markdown",
   "metadata": {
    "id": "M-DGa20PaHnu"
   },
   "source": [
    "<h1>Задача 1</h1>\n",
    "Написать функцию на вход которой подается строка, состоящая из латинских букв.\n",
    "Функция должна вернуть количество гласных букв (a, e, i, o, u) в этой строке. Написать тесты для кода"
   ]
  },
  {
   "cell_type": "code",
   "execution_count": 1,
   "metadata": {
    "id": "XvX8X_JJ6PCb"
   },
   "outputs": [
    {
     "name": "stdout",
     "output_type": "stream",
     "text": [
      "All tests passed!\n"
     ]
    }
   ],
   "source": [
    "def count_vowels(s):\n",
    "    vowels = set('aeiouAEIOU')\n",
    "    return sum(1 for char in s if char in vowels)\n",
    "\n",
    "def test_count_vowels():\n",
    "    # Тест 1: Обычная строка\n",
    "    assert count_vowels(\"hello\") == 2, \"Test 1 failed\"\n",
    "    # Тест 2: Пустая строка\n",
    "    assert count_vowels(\"\") == 0, \"Test 2 failed\"\n",
    "    # Тест 3: Строка без гласных\n",
    "    assert count_vowels(\"bcdfg\") == 0, \"Test 3 failed\"\n",
    "    # Тест 4: Строка, содержащая только гласные\n",
    "    assert count_vowels(\"aeiou\") == 5, \"Test 4 failed\"\n",
    "    # Тест 5: Строка с заглавными и строчными гласными\n",
    "    assert count_vowels(\"AeIoU\") == 5, \"Test 5 failed\"\n",
    "    # Тест 6: Смешанная строка\n",
    "    assert count_vowels(\"Python is cool!\") == 4, \"Test 6 failed\"\n",
    "    \n",
    "    print(\"All tests passed!\")\n",
    "\n",
    "test_count_vowels()\n"
   ]
  },
  {
   "cell_type": "markdown",
   "metadata": {
    "id": "t2ClV_Y0bbr6"
   },
   "source": [
    "# Задача 2\n",
    "Написать функцию на вход, которой подается строка. Функция должна вернуть true, если\n",
    "каждый символ в строке встречается только 1 раз, иначе должна вернуть false. Написать тесты для кода"
   ]
  },
  {
   "cell_type": "code",
   "execution_count": 2,
   "metadata": {
    "id": "FppbECao6VIz"
   },
   "outputs": [
    {
     "name": "stdout",
     "output_type": "stream",
     "text": [
      "All tests passed!\n"
     ]
    }
   ],
   "source": [
    "def has_unique_chars(s):\n",
    "    return len(s) == len(set(s))\n",
    "\n",
    "def test_has_unique_chars():\n",
    "    # Тест 1: Все символы уникальны\n",
    "    assert has_unique_chars(\"abcde\") == True, \"Test 1 failed\"\n",
    "    # Тест 2: Есть повторяющиеся символы\n",
    "    assert has_unique_chars(\"hello\") == False, \"Test 2 failed\"\n",
    "    # Тест 3: Пустая строка (считается, что все символы уникальны)\n",
    "    assert has_unique_chars(\"\") == True, \"Test 3 failed\"\n",
    "    # Тест 4: Строка из одного символа\n",
    "    assert has_unique_chars(\"a\") == True, \"Test 4 failed\"\n",
    "    # Тест 5: Строка с повторяющимися символами\n",
    "    assert has_unique_chars(\"aabbcc\") == False, \"Test 5 failed\"\n",
    "    # Тест 6: Строка с заглавными и строчными буквами\n",
    "    assert has_unique_chars(\"AaBbCc\") == True, \"Test 6 failed\"\n",
    "    \n",
    "    print(\"All tests passed!\")\n",
    "\n",
    "test_has_unique_chars()\n",
    "\n"
   ]
  },
  {
   "cell_type": "markdown",
   "metadata": {
    "id": "udRiIK1cdt6E"
   },
   "source": [
    "# Задача 3\n",
    "Написать функцию, которая принимает положительное число и возвращает количество\n",
    "бит равных 1 в этом числе. Написать тесты для кода"
   ]
  },
  {
   "cell_type": "code",
   "execution_count": 3,
   "metadata": {
    "id": "6tkfDJRz6dp_"
   },
   "outputs": [
    {
     "name": "stdout",
     "output_type": "stream",
     "text": [
      "All tests passed!\n"
     ]
    }
   ],
   "source": [
    "def count_ones_in_binary(n):\n",
    "    return bin(n).count('1')\n",
    "\n",
    "def test_count_ones_in_binary():\n",
    "    # Тест 1: Число 5 в двоичном виде 101\n",
    "    assert count_ones_in_binary(5) == 2, \"Test 1 failed\"\n",
    "    # Тест 2: Число 8 в двоичном виде 1000\n",
    "    assert count_ones_in_binary(8) == 1, \"Test 2 failed\"\n",
    "    # Тест 3: Число 15 в двоичном виде 1111\n",
    "    assert count_ones_in_binary(15) == 4, \"Test 3 failed\"\n",
    "    # Тест 4: Число 1 в двоичном виде 1\n",
    "    assert count_ones_in_binary(1) == 1, \"Test 4 failed\"\n",
    "    # Тест 5: Число 0 в двоичном виде 0\n",
    "    assert count_ones_in_binary(0) == 0, \"Test 5 failed\"\n",
    "    # Тест 6: Большое число\n",
    "    assert count_ones_in_binary(1023) == 10, \"Test 6 failed\"\n",
    "    \n",
    "    print(\"All tests passed!\")\n",
    "\n",
    "test_count_ones_in_binary()\n",
    "\n"
   ]
  },
  {
   "cell_type": "markdown",
   "metadata": {
    "id": "26dDUz-Ae17N"
   },
   "source": [
    "# Задача 4\n",
    "Написать функцию, которая принимает положительное число. Функция должна вернуть то,\n",
    "сколько раз необходимо перемножать цифры числа или результат перемножения, чтобы\n",
    "получилось число состоящее из одной цифры.\n",
    "Например, для входного числа:\n",
    "· 39 функция должна вернуть 3, так как 3*9=27 => 2*7=14 => 1*4=4\n",
    "· 4 функция должна вернуть 0, так как число уже состоит из одной цифры\n",
    "· 999 функция должна вернуть 4, так как 9*9*9=729 => 7*2*9=126 => 1*2*6=12 =>\n",
    "1*2=2. Написать тесты для кода"
   ]
  },
  {
   "cell_type": "code",
   "execution_count": 12,
   "metadata": {
    "id": "BH1A_Mgi6i4G"
   },
   "outputs": [
    {
     "name": "stdout",
     "output_type": "stream",
     "text": [
      "All tests passed!\n"
     ]
    }
   ],
   "source": [
    "def magic(n):\n",
    "    count = 0\n",
    "    while n >= 10:\n",
    "        product = 1\n",
    "        for digit in str(n):\n",
    "            product *= int(digit)\n",
    "        n = product\n",
    "        count += 1\n",
    "    return count\n",
    "\n",
    "def test_magic():\n",
    "    assert magic(39) == 3 \n",
    "    assert magic(4) == 0  \n",
    "    assert magic(999) == 4 \n",
    "    assert magic(25) == 2 \n",
    "\n",
    "    print(\"All tests passed!\")\n",
    "\n",
    "test_magic()\n"
   ]
  },
  {
   "cell_type": "markdown",
   "metadata": {
    "id": "0nS-kIa8g8vd"
   },
   "source": [
    "# Задача 5\n",
    "Написать функцию, которая принимает два целочисленных вектора одинаковой длины и\n",
    "возвращает среднеквадратическое отклонение двух векторов. Написать тесты для кода"
   ]
  },
  {
   "cell_type": "code",
   "execution_count": 13,
   "metadata": {
    "id": "8iphx4LM6xbx"
   },
   "outputs": [
    {
     "name": "stdout",
     "output_type": "stream",
     "text": [
      "All tests passed!\n"
     ]
    }
   ],
   "source": [
    "def mse(pred, true):\n",
    "    if len(pred) != len(true):\n",
    "        raise ValueError(\"Векторы должны быть одинаковой длины\")\n",
    "    n = len(pred)\n",
    "    squared_diff_sum = sum((p - t) ** 2 for p, t in zip(pred, true))\n",
    "    \n",
    "    return squared_diff_sum / n\n",
    "\n",
    "def test_mse():\n",
    "    assert mse([1, 2, 3], [1, 2, 3]) == 0  \n",
    "    assert mse([1, 2, 3], [4, 5, 6]) == 9  \n",
    "    assert mse([10, 20, 10], [20, 10, 30]) == 200  \n",
    "    assert mse([0, 0, 0], [0, 0, 0]) == 0 \n",
    "    assert mse([1, 2, 3, 4], [4, 3, 2, 1]) == 5 \n",
    "\n",
    "    print(\"All tests passed!\")\n",
    "\n",
    "test_mse()\n"
   ]
  },
  {
   "cell_type": "markdown",
   "metadata": {
    "id": "vpIPKL439zkw"
   },
   "source": [
    "# Задача 6\n",
    "Написать функцию, принимающая целое положительное число. Функция должна вернуть\n",
    "строку вида “(n1**p1)(n2**p2)…(nk**pk)” представляющая разложение числа на простые\n",
    "множители (если pi == 1, то выводить только ni).\n",
    "Например, для числа 86240 функция должна вернуть “(2**5)(5)(7**2)(11)”. Написать тесты для кода"
   ]
  },
  {
   "cell_type": "code",
   "execution_count": 14,
   "metadata": {
    "id": "pFebmcZk94Jw"
   },
   "outputs": [
    {
     "name": "stdout",
     "output_type": "stream",
     "text": [
      "All tests passed!\n"
     ]
    }
   ],
   "source": [
    "def prime_factors(n):\n",
    "    factors = {}\n",
    "    divisor = 2\n",
    "    while n > 1:\n",
    "        count = 0\n",
    "        while n % divisor == 0:\n",
    "            n //= divisor\n",
    "            count += 1\n",
    "        if count > 0:\n",
    "            factors[divisor] = count\n",
    "        divisor += 1\n",
    "    return factors\n",
    "\n",
    "def format_factors(factors):\n",
    "    result = []\n",
    "    for prime, power in sorted(factors.items()):\n",
    "        if power == 1:\n",
    "            result.append(f\"({prime})\")\n",
    "        else:\n",
    "            result.append(f\"({prime}**{power})\")\n",
    "    return ''.join(result)\n",
    "\n",
    "def prime_factor_decomposition(n):\n",
    "    factors = prime_factors(n)\n",
    "    return format_factors(factors)\n",
    "\n",
    "def test_prime_factor_decomposition():\n",
    "    assert prime_factor_decomposition(86240) == \"(2**5)(5)(7**2)(11)\"\n",
    "    assert prime_factor_decomposition(60) == \"(2**2)(3)(5)\"\n",
    "    assert prime_factor_decomposition(13) == \"(13)\" \n",
    "    assert prime_factor_decomposition(100) == \"(2**2)(5**2)\"\n",
    "    assert prime_factor_decomposition(1) == \"\" \n",
    "\n",
    "    print(\"All tests passed!\")\n",
    "\n",
    "test_prime_factor_decomposition()\n"
   ]
  },
  {
   "cell_type": "markdown",
   "metadata": {
    "id": "ps2s0BudX7A2"
   },
   "source": [
    "# Задача 7\n",
    "Написать функцию, принимающая целое число n, задающее количество кубиков. Функция\n",
    "должна определить, можно ли из данного кол-ва кубиков построить пирамиду, то есть\n",
    "можно ли представить число n как 1^2+2^2+3^2+…+k^2. Если можно, то функция должна\n",
    "вернуть k, иначе строку “It is impossible”. Написать тесты для кода"
   ]
  },
  {
   "cell_type": "code",
   "execution_count": 15,
   "metadata": {
    "id": "3YPjEXxhX_YT"
   },
   "outputs": [
    {
     "name": "stdout",
     "output_type": "stream",
     "text": [
      "All tests passed!\n"
     ]
    }
   ],
   "source": [
    "def pyramid(n):\n",
    "    total = 0\n",
    "    k = 0\n",
    "    while total < n:\n",
    "        k += 1\n",
    "        total += k ** 2\n",
    "        if total == n:\n",
    "            return k\n",
    "    return \"It is impossible\"\n",
    "\n",
    "def test_pyramid():\n",
    "    # Тест 1: возможный случай с k = 3 (1^2 + 2^2 + 3^2 = 14)\n",
    "    assert pyramid(14) == 3, \"Test 1 failed\"\n",
    "    # Тест 2: возможный случай с k = 4 (1^2 + 2^2 + 3^2 + 4^2 = 30)\n",
    "    assert pyramid(30) == 4, \"Test 2 failed\"\n",
    "    # Тест 3: случай, когда пирамиду построить невозможно\n",
    "    assert pyramid(15) == \"It is impossible\", \"Test 3 failed\"\n",
    "    # Тест 4: случай с минимальным значением n = 1 (1^2 = 1)\n",
    "    assert pyramid(1) == 1, \"Test 4 failed\"\n",
    "    # Тест 5: случай, когда n слишком большое и пирамиду построить невозможно\n",
    "    assert pyramid(100) == \"It is impossible\", \"Test 5 failed\"\n",
    "    # Тест 6: случай, когда можно построить пирамиду из большего числа кубиков\n",
    "    assert pyramid(55) == 5, \"Test 6 failed\"\n",
    "    \n",
    "    print(\"All tests passed!\")\n",
    "\n",
    "test_pyramid()\n"
   ]
  },
  {
   "cell_type": "markdown",
   "metadata": {
    "id": "KeKgmIdAQMEJ"
   },
   "source": [
    "# Задача 8\n",
    "Функция принимает на вход положительное число и определяет является ли оно сбалансированным, т.е. сумма цифр до средних равна сумме цифр после. Средними в случае нечетного числа цифр считать одну цифру, в случае четного - две средних. Написать тесты для кода"
   ]
  },
  {
   "cell_type": "code",
   "execution_count": 24,
   "metadata": {
    "id": "gMAAqtqlQrZt"
   },
   "outputs": [
    {
     "name": "stdout",
     "output_type": "stream",
     "text": [
      "All tests passed!\n"
     ]
    }
   ],
   "source": [
    "def is_balanced(number):\n",
    "    num_str = str(number)\n",
    "    length = len(num_str)\n",
    "\n",
    "    if length % 2 == 0:\n",
    "        mid = length // 2\n",
    "        left_part = num_str[:mid - 1] \n",
    "        right_part = num_str[mid + 1:]\n",
    "    else:\n",
    "        mid = length // 2\n",
    "        left_part = num_str[:mid]  \n",
    "        right_part = num_str[mid + 1:]  \n",
    "\n",
    "    left_sum = sum(int(digit) for digit in left_part)\n",
    "    right_sum = sum(int(digit) for digit in right_part)\n",
    "\n",
    "    return left_sum == right_sum\n",
    "\n",
    "def test_is_balanced():\n",
    "    # Сбалансированные числа\n",
    "    assert is_balanced(123321), \"Test failed for number 123321\"  \n",
    "    assert is_balanced(12321), \"Test failed for number 12321\"    \n",
    "    assert is_balanced(1111), \"Test failed for number 1111\"     \n",
    "    assert is_balanced(0), \"Test failed for number 0\"           \n",
    "    assert not is_balanced(123456), \"Test failed for number 123456\"  \n",
    "    assert not is_balanced(98765), \"Test failed for number 98765\"    \n",
    "    assert not is_balanced(543210), \"Test failed for number 543210\"  \n",
    "    assert not is_balanced(987654321), \"Test failed for number 987654321\"  \n",
    "\n",
    "    print(\"All tests passed!\")\n",
    "\n",
    "test_is_balanced()\n",
    "\n",
    "\n"
   ]
  }
 ],
 "metadata": {
  "colab": {
   "provenance": []
  },
  "kernelspec": {
   "display_name": "Python 3",
   "language": "python",
   "name": "python3"
  },
  "language_info": {
   "codemirror_mode": {
    "name": "ipython",
    "version": 3
   },
   "file_extension": ".py",
   "mimetype": "text/x-python",
   "name": "python",
   "nbconvert_exporter": "python",
   "pygments_lexer": "ipython3",
   "version": "3.12.7"
  }
 },
 "nbformat": 4,
 "nbformat_minor": 4
}
